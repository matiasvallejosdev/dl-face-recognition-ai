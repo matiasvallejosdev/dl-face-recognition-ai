{
  "nbformat": 4,
  "nbformat_minor": 0,
  "metadata": {
    "colab": {
      "name": "face_classification.ipynb",
      "provenance": [],
      "authorship_tag": "ABX9TyNpG4Mn5sBpJGZRyg0wh2y2",
      "include_colab_link": true
    },
    "kernelspec": {
      "name": "python3",
      "display_name": "Python 3"
    },
    "language_info": {
      "name": "python"
    }
  },
  "cells": [
    {
      "cell_type": "markdown",
      "metadata": {
        "id": "view-in-github",
        "colab_type": "text"
      },
      "source": [
        "<a href=\"https://colab.research.google.com/github/matiasvallejosdev/my-face-recognition/blob/main/face_classification.ipynb\" target=\"_parent\"><img src=\"https://colab.research.google.com/assets/colab-badge.svg\" alt=\"Open In Colab\"/></a>"
      ]
    },
    {
      "cell_type": "markdown",
      "metadata": {
        "id": "_6EJKIJODp3g"
      },
      "source": [
        "# My face classification with Tensorflow\n",
        "\n",
        "https://www.tensorflow.org/tutorials/images/classification"
      ]
    },
    {
      "cell_type": "markdown",
      "metadata": {
        "id": "cATJPVv-Djun"
      },
      "source": [
        "## 1. Packages\n"
      ]
    },
    {
      "cell_type": "code",
      "metadata": {
        "colab": {
          "base_uri": "https://localhost:8080/",
          "height": 35
        },
        "id": "Qqp2CI5B9t8W",
        "outputId": "a98b0efe-f93d-41b7-a8aa-90f837b76f65"
      },
      "source": [
        "import tensorflow as tf\n",
        "import tensorflow.keras.layers as tfl\n",
        "import tensorflow.keras as tk\n",
        "import tensorflow.keras.preprocessing.image as tfi\n",
        "import numpy as np\n",
        "import pandas as pd\n",
        "\n",
        "import pathlib\n",
        "import imageio\n",
        "\n",
        "import matplotlib.pyplot as plt\n",
        "import os\n",
        "\n",
        "tf.__version__"
      ],
      "execution_count": 6,
      "outputs": [
        {
          "output_type": "execute_result",
          "data": {
            "application/vnd.google.colaboratory.intrinsic+json": {
              "type": "string"
            },
            "text/plain": [
              "'2.5.0'"
            ]
          },
          "metadata": {
            "tags": []
          },
          "execution_count": 6
        }
      ]
    },
    {
      "cell_type": "markdown",
      "metadata": {
        "id": "JawTCSH3DW-n"
      },
      "source": [
        "## 2. Load data"
      ]
    },
    {
      "cell_type": "code",
      "metadata": {
        "colab": {
          "base_uri": "https://localhost:8080/"
        },
        "id": "EhLPwGvc-0S8",
        "outputId": "95c471aa-11f9-4795-ecaa-2ef15c755f7e"
      },
      "source": [
        "from google.colab import drive\n",
        "drive.mount('/content/drive')"
      ],
      "execution_count": 2,
      "outputs": [
        {
          "output_type": "stream",
          "text": [
            "Mounted at /content/drive\n"
          ],
          "name": "stdout"
        }
      ]
    },
    {
      "cell_type": "code",
      "metadata": {
        "colab": {
          "base_uri": "https://localhost:8080/"
        },
        "id": "-LxRvI_MDvGw",
        "outputId": "fc99f6c7-8981-4945-83e5-3afdf0be77d0"
      },
      "source": [
        "# Preprocessing\n",
        "batch_size = 32\n",
        "data_root = (\"/content/drive/My Drive/Machine Learning/Datasets/my-face/\")\n",
        "\n",
        "IMAGE_SHAPE = (30, 30) # (height, width) in no. of pixels\n",
        "TRAINING_DATA_DIR = str(data_root)\n",
        "datagen_kwargs = dict(rescale=1./255, validation_split=.20)\n",
        "\n",
        "print(TRAINING_DATA_DIR)"
      ],
      "execution_count": 3,
      "outputs": [
        {
          "output_type": "stream",
          "text": [
            "/content/drive/My Drive/Machine Learning/Datasets/my-face/\n"
          ],
          "name": "stdout"
        }
      ]
    },
    {
      "cell_type": "markdown",
      "metadata": {
        "id": "bA9TnOkwmGGX"
      },
      "source": [
        "## 3. Prepare data to train"
      ]
    },
    {
      "cell_type": "code",
      "metadata": {
        "colab": {
          "base_uri": "https://localhost:8080/"
        },
        "id": "3-90MXj7EgXf",
        "outputId": "cfb02866-5a03-4d38-e6e5-bc6574ab6999"
      },
      "source": [
        "train_ds = tf.keras.preprocessing.image_dataset_from_directory(\n",
        "  TRAINING_DATA_DIR,\n",
        "  validation_split=0.2,\n",
        "  seed = 4,\n",
        "  subset=\"training\",\n",
        "  shuffle=True)\n",
        "\n",
        "print('')\n",
        "\n",
        "valid_ds = tf.keras.preprocessing.image_dataset_from_directory(\n",
        "  TRAINING_DATA_DIR,\n",
        "  validation_split=0.2,\n",
        "  seed = 4,\n",
        "  subset=\"validation\",\n",
        "  shuffle=True)"
      ],
      "execution_count": null,
      "outputs": [
        {
          "output_type": "stream",
          "text": [
            "Found 1755 files belonging to 2 classes.\n",
            "Using 1404 files for training.\n",
            "\n",
            "Found 1755 files belonging to 2 classes.\n",
            "Using 351 files for validation.\n"
          ],
          "name": "stdout"
        }
      ]
    },
    {
      "cell_type": "code",
      "metadata": {
        "id": "aoiSG05QT_WS"
      },
      "source": [
        "def plotImages(images_arr):\n",
        "    fig, axes = plt.subplots(1, 5, figsize=(20,20))\n",
        "    axes = axes.flatten()\n",
        "    for img, ax in zip( images_arr, axes):\n",
        "        ax.imshow(img)\n",
        "        ax.axis('off')\n",
        "    plt.tight_layout()\n",
        "    plt.show()"
      ],
      "execution_count": 10,
      "outputs": []
    },
    {
      "cell_type": "code",
      "metadata": {
        "colab": {
          "base_uri": "https://localhost:8080/"
        },
        "id": "6GSEJd73ZC8J",
        "outputId": "4582e50f-4cdf-484b-f54a-f09739563b11"
      },
      "source": [
        "# Define generators\n",
        "train_datagen = tfi.ImageDataGenerator(\n",
        "        rescale=1 / 255.0,\n",
        "        rotation_range=20,\n",
        "        zoom_range=0.05,\n",
        "        width_shift_range=0.05,\n",
        "        height_shift_range=0.05,\n",
        "        shear_range=0.05,\n",
        "        horizontal_flip=True,\n",
        "        fill_mode=\"nearest\",\n",
        "        validation_split=0.20)\n",
        "\n",
        "test_datagen = tfi.ImageDataGenerator(rescale=1 / 255.0)\n",
        "\n",
        "# Define generators datasets\n",
        "train_generator = train_datagen.flow_from_directory(\n",
        "    directory=TRAINING_DATA_DIR,\n",
        "    target_size=(32, 32),\n",
        "    color_mode=\"rgb\",\n",
        "    batch_size=8,\n",
        "    class_mode=\"categorical\",\n",
        "    subset='training',\n",
        "    shuffle=True,\n",
        "    seed=4\n",
        ")\n",
        "valid_generator = train_datagen.flow_from_directory(\n",
        "    directory=TRAINING_DATA_DIR,\n",
        "    target_size=(32, 32),\n",
        "    color_mode=\"rgb\",\n",
        "    batch_size=8,\n",
        "    class_mode=\"categorical\",\n",
        "    subset='validation',\n",
        "    shuffle=True,\n",
        "    seed=4\n",
        ")"
      ],
      "execution_count": 17,
      "outputs": [
        {
          "output_type": "stream",
          "text": [
            "Found 1405 images belonging to 2 classes.\n",
            "Found 350 images belonging to 2 classes.\n"
          ],
          "name": "stdout"
        }
      ]
    },
    {
      "cell_type": "code",
      "metadata": {
        "id": "1_srqv0Qnls1",
        "outputId": "47a3d5df-68ca-48d0-b5ef-0d462bc53197",
        "colab": {
          "base_uri": "https://localhost:8080/",
          "height": 302
        }
      },
      "source": [
        "augmented_images = [train_generator[171][0][7] for i in range(5)]\n",
        "plotImages(augmented_images)"
      ],
      "execution_count": 55,
      "outputs": [
        {
          "output_type": "display_data",
          "data": {
            "image/png": "[encoded data removed]",
            "text/plain": [
              "<Figure size 1440x1440 with 5 Axes>"
            ]
          },
          "metadata": {
            "tags": [],
            "needs_background": "light"
          }
        }
      ]
    },
    {
      "cell_type": "code",
      "metadata": {
        "colab": {
          "base_uri": "https://localhost:8080/"
        },
        "id": "3H_VFklz-BR0",
        "outputId": "eb3b5285-e07e-4079-a72f-539b7f25ec0a"
      },
      "source": [
        "class_names = train_generator.classes\n",
        "print(\"Total classes: {}\".format(train_generator.num_classes))\n",
        "\n",
        "class_names = train_generator.class_indices\n",
        "print(\"Name classes: {}\".format(class_names))\n",
        "print(\"Total: {}\".format(str(len(class_names))))"
      ],
      "execution_count": 74,
      "outputs": [
        {
          "output_type": "stream",
          "text": [
            "Total classes: 2\n",
            "Name classes: {'agustin': 0, 'matias': 1}\n",
            "Total: 2\n"
          ],
          "name": "stdout"
        }
      ]
    },
    {
      "cell_type": "markdown",
      "metadata": {
        "id": "uIKlZ86XqW75"
      },
      "source": [
        "## 3. Define model"
      ]
    },
    {
      "cell_type": "code",
      "metadata": {
        "id": "zZxj5kB7jPbW"
      },
      "source": [
        "model = tf.keras.Sequential([\n",
        "            tfl.Conv2D(16, 3, padding='same', activation='relu',input_shape=(32,32,3)),\n",
        "            tfl.MaxPooling2D(),\n",
        "            tfl.Conv2D(32, 3, padding='same', activation='relu'),\n",
        "            tfl.MaxPooling2D(),\n",
        "            tfl.Conv2D(64, 3, padding='same', activation='relu'),\n",
        "            tfl.MaxPooling2D(),\n",
        "            tfl.Flatten(),\n",
        "            tfl.Dense(128, activation='relu'),\n",
        "            tfl.Dense(2, activation='sigmoid')\n",
        "])"
      ],
      "execution_count": 75,
      "outputs": []
    },
    {
      "cell_type": "code",
      "metadata": {
        "colab": {
          "base_uri": "https://localhost:8080/"
        },
        "id": "CTM22M2HeZPL",
        "outputId": "11365e5a-c00f-4867-e1e0-bd06694b0b2c"
      },
      "source": [
        "model.compile(loss=\"binary_crossentropy\",optimizer=\"adam\",metrics=['accuracy'])\n",
        "model.summary()"
      ],
      "execution_count": 76,
      "outputs": [
        {
          "output_type": "stream",
          "text": [
            "Model: \"sequential\"\n",
            "_________________________________________________________________\n",
            "Layer (type)                 Output Shape              Param #   \n",
            "=================================================================\n",
            "conv2d (Conv2D)              (None, 32, 32, 16)        448       \n",
            "_________________________________________________________________\n",
            "max_pooling2d (MaxPooling2D) (None, 16, 16, 16)        0         \n",
            "_________________________________________________________________\n",
            "conv2d_1 (Conv2D)            (None, 16, 16, 32)        4640      \n",
            "_________________________________________________________________\n",
            "max_pooling2d_1 (MaxPooling2 (None, 8, 8, 32)          0         \n",
            "_________________________________________________________________\n",
            "conv2d_2 (Conv2D)            (None, 8, 8, 64)          18496     \n",
            "_________________________________________________________________\n",
            "max_pooling2d_2 (MaxPooling2 (None, 4, 4, 64)          0         \n",
            "_________________________________________________________________\n",
            "flatten (Flatten)            (None, 1024)              0         \n",
            "_________________________________________________________________\n",
            "dense (Dense)                (None, 128)               131200    \n",
            "_________________________________________________________________\n",
            "dense_1 (Dense)              (None, 2)                 258       \n",
            "=================================================================\n",
            "Total params: 155,042\n",
            "Trainable params: 155,042\n",
            "Non-trainable params: 0\n",
            "_________________________________________________________________\n"
          ],
          "name": "stdout"
        }
      ]
    },
    {
      "cell_type": "markdown",
      "metadata": {
        "id": "nvwU7bcwqcEJ"
      },
      "source": [
        "## 4. Train model"
      ]
    },
    {
      "cell_type": "code",
      "metadata": {
        "colab": {
          "base_uri": "https://localhost:8080/"
        },
        "id": "iyYHEPjLg8vY",
        "outputId": "405742d9-2422-4bae-b850-0cff227d55c3"
      },
      "source": [
        "history = model.fit_generator(train_generator,\n",
        "                    validation_data = train_generator,\n",
        "                    steps_per_epoch = train_generator.n//train_generator.batch_size,\n",
        "                    validation_steps = valid_generator.n//valid_generator.batch_size,\n",
        "                    epochs=10)"
      ],
      "execution_count": null,
      "outputs": [
        {
          "output_type": "stream",
          "text": [
            "/usr/local/lib/python3.7/dist-packages/tensorflow/python/keras/engine/training.py:1940: UserWarning: `Model.fit_generator` is deprecated and will be removed in a future version. Please use `Model.fit`, which supports generators.\n",
            "  warnings.warn('`Model.fit_generator` is deprecated and '\n"
          ],
          "name": "stderr"
        },
        {
          "output_type": "stream",
          "text": [
            "Epoch 1/10\n",
            "175/175 [==============================] - 8s 39ms/step - loss: 0.4540 - accuracy: 0.8346 - val_loss: 0.3750 - val_accuracy: 0.8576\n",
            "Epoch 2/10\n",
            "175/175 [==============================] - 7s 38ms/step - loss: 0.2953 - accuracy: 0.8855 - val_loss: 0.1480 - val_accuracy: 0.9419\n",
            "Epoch 3/10\n",
            "175/175 [==============================] - 7s 38ms/step - loss: 0.1798 - accuracy: 0.9248 - val_loss: 0.1217 - val_accuracy: 0.9564\n",
            "Epoch 4/10\n",
            "175/175 [==============================] - 7s 39ms/step - loss: 0.1098 - accuracy: 0.9628 - val_loss: 0.1040 - val_accuracy: 0.9622\n",
            "Epoch 5/10\n",
            "175/175 [==============================] - 7s 39ms/step - loss: 0.0974 - accuracy: 0.9649 - val_loss: 0.1122 - val_accuracy: 0.9593\n",
            "Epoch 6/10\n",
            "175/175 [==============================] - 7s 39ms/step - loss: 0.0717 - accuracy: 0.9785 - val_loss: 0.0576 - val_accuracy: 0.9797\n",
            "Epoch 7/10\n",
            "175/175 [==============================] - 7s 40ms/step - loss: 0.0917 - accuracy: 0.9678 - val_loss: 0.0447 - val_accuracy: 0.9913\n",
            "Epoch 8/10\n",
            "175/175 [==============================] - 7s 38ms/step - loss: 0.0665 - accuracy: 0.9828 - val_loss: 0.0422 - val_accuracy: 0.9797\n",
            "Epoch 9/10\n",
            "175/175 [==============================] - 6s 37ms/step - loss: 0.0600 - accuracy: 0.9814 - val_loss: 0.0986 - val_accuracy: 0.9738\n",
            "Epoch 10/10\n",
            "175/175 [==============================] - 7s 39ms/step - loss: 0.0526 - accuracy: 0.9857 - val_loss: 0.0709 - val_accuracy: 0.9797\n"
          ],
          "name": "stdout"
        }
      ]
    },
    {
      "cell_type": "markdown",
      "metadata": {
        "id": "UfspoKqBqh0g"
      },
      "source": [
        "## 5. Evaluate model "
      ]
    },
    {
      "cell_type": "markdown",
      "metadata": {
        "id": "9PH5F1P8qphg"
      },
      "source": [
        "### Predict model"
      ]
    },
    {
      "cell_type": "code",
      "metadata": {
        "colab": {
          "base_uri": "https://localhost:8080/"
        },
        "id": "jb09Tb68hRBn",
        "outputId": "c5919d08-b640-4131-d243-bbcb26351491"
      },
      "source": [
        "test_loss, test_accuracy = model.evaluate_generator(valid_generator)\n",
        "predictions = model.predict(valid_generator)"
      ],
      "execution_count": null,
      "outputs": [
        {
          "output_type": "stream",
          "text": [
            "/usr/local/lib/python3.7/dist-packages/tensorflow/python/keras/engine/training.py:1973: UserWarning: `Model.evaluate_generator` is deprecated and will be removed in a future version. Please use `Model.evaluate`, which supports generators.\n",
            "  warnings.warn('`Model.evaluate_generator` is deprecated and '\n"
          ],
          "name": "stderr"
        }
      ]
    },
    {
      "cell_type": "code",
      "metadata": {
        "colab": {
          "base_uri": "https://localhost:8080/"
        },
        "id": "eRf8GJEkkd9b",
        "outputId": "bd992898-8564-4f14-8827-f509afc1d4d4"
      },
      "source": [
        "print(\"Test loss: {}\".format(test_loss))\n",
        "print(\"Test accuracy: {}\".format(test_accuracy))"
      ],
      "execution_count": null,
      "outputs": [
        {
          "output_type": "stream",
          "text": [
            "Test loss: 0.09906724095344543\n",
            "Test accuracy: 0.9628571271896362\n"
          ],
          "name": "stdout"
        }
      ]
    },
    {
      "cell_type": "code",
      "metadata": {
        "colab": {
          "base_uri": "https://localhost:8080/",
          "height": 336
        },
        "id": "XIKfugVYlmNj",
        "outputId": "eb3e7772-4044-459b-e9f5-8fd527b51857"
      },
      "source": [
        "acc = history.history['accuracy']\n",
        "val_acc = history.history['val_accuracy']\n",
        "\n",
        "loss = history.history['loss']\n",
        "val_loss = history.history['val_loss']\n",
        "\n",
        "epochs_range = range(10)\n",
        "\n",
        "plt.figure(figsize=(12, 5))\n",
        "plt.subplot(1, 2, 1)\n",
        "plt.plot(epochs_range, acc, label='Training Accuracy')\n",
        "plt.plot(epochs_range, val_acc, label='Validation Accuracy')\n",
        "plt.legend(loc='lower right')\n",
        "plt.title('Training and Validation Accuracy')\n",
        "\n",
        "plt.subplot(1, 2, 2)\n",
        "plt.plot(epochs_range, loss, label='Training Loss')\n",
        "plt.plot(epochs_range, val_loss, label='Validation Loss')\n",
        "plt.legend(loc='upper right')\n",
        "plt.title('Training and Validation Loss')\n",
        "plt.show()"
      ],
      "execution_count": null,
      "outputs": [
        {
          "output_type": "display_data",
          "data": {
            "image/png": "[encoded data removed]",
            "text/plain": [
              "<Figure size 864x360 with 2 Axes>"
            ]
          },
          "metadata": {
            "tags": [],
            "needs_background": "light"
          }
        }
      ]
    },
    {
      "cell_type": "markdown",
      "metadata": {
        "id": "yg-nF1mWqtuI"
      },
      "source": [
        "### Own image"
      ]
    }
  ]
}